{
 "cells": [
  {
   "cell_type": "markdown",
   "metadata": {},
   "source": [
    "<a href=\"https://www.datamics.com/courses/online-courses/\">![title](bg_datamics_top.png)</a>\n",
    "\n",
    "<center><em>© Datamics</em></center><br><center><em>Besuche uns für mehr Informationen auf <a href='https://www.datamics.com/courses/online-courses/'>www.datamics.com</a></em>\n",
    "# Zahlen und mehr in Python!\n",
    "In dieser Lektion werden wir mehr über Zahlen in Python lernen und darüber, wie man sie anwendet.\n",
    "Wir werden folgende Themen behandeln:\n",
    "1. Arten von Zahlen\n",
    "2. Grundlegende Arithmetik\n",
    "3. Unterschied zwischen Python 2 und 3 bei Division\n",
    "4. Objektzuweisung in Python\n",
    "\n",
    "## Arten von Zahlen\n",
    "Python beinhaltet verschiedene \"Arten\" (en.: types) von Zahlen. Wir werden uns hauptsächlich mit Ganzzahlen (en.: integers) und Kommazahlen (en.: floats) beschäftigen. Später unternehmen wir einen kurzen Abstecher zu den komplexen Zahlen (en.: complex numbers).\n",
    "Integers sind einfach ganze Zahlen, positiv und negativ. Zum Beispiel: 2 und -2 sind Integers.\n",
    "Floats sind Kommazahlen und in Python besonders, da sie einen Dezimalpunkt oder einen Exponenten (e) beinhalten, um die Zahl zu definieren. Zum Beispiel sind 2.0 und -2.1 Zahlen mit Dezimalpunkt. 4E2 (4 mal 10 hoch 2) ist ebenso ein Beispiel für eine Float-Zahl in Python.\n",
    "\n",
    "Im Laufe dieses Kurses werden wir insbesondere mit Integern und Floats arbeiten.\n",
    "Nun lasst uns mit einfacher Mathematik beginnen.\n",
    "## Grundlegende Arithmetik"
   ]
  },
  {
   "cell_type": "code",
   "execution_count": 1,
   "metadata": {},
   "outputs": [
    {
     "data": {
      "text/plain": [
       "3"
      ]
     },
     "execution_count": 1,
     "metadata": {},
     "output_type": "execute_result"
    }
   ],
   "source": [
    "# Addition\n",
    "2+1"
   ]
  },
  {
   "cell_type": "code",
   "execution_count": 2,
   "metadata": {},
   "outputs": [
    {
     "data": {
      "text/plain": [
       "1"
      ]
     },
     "execution_count": 2,
     "metadata": {},
     "output_type": "execute_result"
    }
   ],
   "source": [
    "# Subtraktion\n",
    "2-1"
   ]
  },
  {
   "cell_type": "code",
   "execution_count": 3,
   "metadata": {},
   "outputs": [
    {
     "data": {
      "text/plain": [
       "4"
      ]
     },
     "execution_count": 3,
     "metadata": {},
     "output_type": "execute_result"
    }
   ],
   "source": [
    "# Multiplikation\n",
    "2*2"
   ]
  },
  {
   "cell_type": "code",
   "execution_count": 1,
   "metadata": {},
   "outputs": [
    {
     "data": {
      "text/plain": [
       "1.5"
      ]
     },
     "execution_count": 1,
     "metadata": {},
     "output_type": "execute_result"
    }
   ],
   "source": [
    "# Division\n",
    "3/2"
   ]
  },
  {
   "cell_type": "markdown",
   "metadata": {},
   "source": [
    "### Python 2 Unterschied!\n",
    "\n",
    "Würden wir in Python 2 die Division 3/2 durchführen, erhielten wir als Ergebnis 1. Der Grund warum wir dieses Ergebnis erhalten würden ist, dass Python 2 Division anders berechnet als Python 3. In Python 2 erzeugt das / Symbol eine Division im \"klassischen\" Sinne. Das heißt, dass die Dezimalpunkte abgeschnitten werden. In Python 3 hingegen erzeugt das / Symbol eine \"wahre\" Division. Das Ergebnis ist also 1.5.\n",
    "\n",
    "Wie können wir dies in Python 2 umgehen?\n",
    "Dazu gibt es 2 Lösungen:"
   ]
  },
  {
   "cell_type": "markdown",
   "metadata": {},
   "source": [
    "a) Eine der Zahlen als Float definieren"
   ]
  },
  {
   "cell_type": "code",
   "execution_count": 5,
   "metadata": {},
   "outputs": [
    {
     "data": {
      "text/plain": [
       "1.5"
      ]
     },
     "execution_count": 5,
     "metadata": {},
     "output_type": "execute_result"
    }
   ],
   "source": [
    "# Eine der Zahlen als Float spezifizieren\n",
    "3.0/2"
   ]
  },
  {
   "cell_type": "code",
   "execution_count": 6,
   "metadata": {},
   "outputs": [
    {
     "data": {
      "text/plain": [
       "1.5"
      ]
     },
     "execution_count": 6,
     "metadata": {},
     "output_type": "execute_result"
    }
   ],
   "source": [
    "# Was für beide Zahlen funktioniert\n",
    "3/2.0"
   ]
  },
  {
   "cell_type": "markdown",
   "metadata": {},
   "source": [
    "b) Wir könnten auch eine der Zahlen mit Hilfe einer Funktion von einem Integer in eine Float umwandelt. Diese Funktion heißt, wenig überraschend, \"float()\"."
   ]
  },
  {
   "cell_type": "code",
   "execution_count": 7,
   "metadata": {},
   "outputs": [
    {
     "data": {
      "text/plain": [
       "1.5"
      ]
     },
     "execution_count": 7,
     "metadata": {},
     "output_type": "execute_result"
    }
   ],
   "source": [
    "# Wir können die float() Funktion nutzen, um Integers umzuwandeln\n",
    "float(3)/2"
   ]
  },
  {
   "cell_type": "markdown",
   "metadata": {},
   "source": [
    "Wir werden später im Kurs noch viel detaillierter auf Funktionen eingehen, also keine Sorgen, falls diese Syntax zunächst ungewohnt scheint. Ihr könnt das als kleine Vorschau betrachten.\n",
    "\n",
    "Eine weitere \"Vorschau\" die wir nutzen können um mit klassischer Division in Python 2 zu arbeiten ist es, das sogenannten <b>future</b> Modul zu importieren.\n",
    "\n",
    "Das ist ein Modul in Python 2, das Python 3 Funktionen beinhaltet. Somit erlaubt es uns Python 3 Funktionen in Python 2 zu nutzen. Wir werden später im Kurs auch auf Imports und Module noch genauer eingehen, also keine Sorge, falls Sie das import Statement noch nicht ganz nachvollziehen können."
   ]
  },
  {
   "cell_type": "code",
   "execution_count": 2,
   "metadata": {},
   "outputs": [
    {
     "data": {
      "text/plain": [
       "1.5"
      ]
     },
     "execution_count": 2,
     "metadata": {},
     "output_type": "execute_result"
    }
   ],
   "source": [
    "from __future__ import division\n",
    "3/2"
   ]
  },
  {
   "cell_type": "markdown",
   "metadata": {},
   "source": [
    "Wenn wir `division` aus dem <b>future</b> Modul importieren, dann wird die klassische Division niergendwo mehr im Python 2 Code in Problem darstellen."
   ]
  },
  {
   "cell_type": "markdown",
   "metadata": {},
   "source": [
    "## Weitere Arithmethik"
   ]
  },
  {
   "cell_type": "code",
   "execution_count": 2,
   "metadata": {},
   "outputs": [
    {
     "data": {
      "text/plain": [
       "8"
      ]
     },
     "execution_count": 2,
     "metadata": {},
     "output_type": "execute_result"
    }
   ],
   "source": [
    "# Potenzen\n",
    "2**3"
   ]
  },
  {
   "cell_type": "code",
   "execution_count": 3,
   "metadata": {},
   "outputs": [
    {
     "data": {
      "text/plain": [
       "1.4142135623730951"
      ]
     },
     "execution_count": 3,
     "metadata": {},
     "output_type": "execute_result"
    }
   ],
   "source": [
    "# So wird auch die Wurzel gezogen\n",
    "2**0.5"
   ]
  },
  {
   "cell_type": "markdown",
   "metadata": {},
   "source": [
    "Python folgt gängigen Regeln der Mathematik. Dazu gehören die Operatorrangfolge (Punkt-vor-Strick-Rechnung), sowie Assoziativ- und Kommutativgesetzt. Das ist wichtig für das Rechnen komplizierterer Ausdrücke bspw. unter Verwendung von Klammern."
   ]
  },
  {
   "cell_type": "code",
   "execution_count": 4,
   "metadata": {},
   "outputs": [
    {
     "data": {
      "text/plain": [
       "105"
      ]
     },
     "execution_count": 4,
     "metadata": {},
     "output_type": "execute_result"
    }
   ],
   "source": [
    "# Die Reihenfolge der Operationen wird in Python eingehalten\n",
    "2 + 10 * 10 + 3"
   ]
  },
  {
   "cell_type": "code",
   "execution_count": 5,
   "metadata": {},
   "outputs": [
    {
     "data": {
      "text/plain": [
       "156"
      ]
     },
     "execution_count": 5,
     "metadata": {},
     "output_type": "execute_result"
    }
   ],
   "source": [
    "# Klammern können genutzt werden um die Reihenfolge zu spezifizieren\n",
    "(2+10)*(10+3)"
   ]
  },
  {
   "cell_type": "markdown",
   "metadata": {},
   "source": [
    "## Variablen Zuweisung\n",
    "\n",
    "Jetzt wo wir gesehen haben wie in Python grundsätzlich mit Zahlen gerechnet wird, können wir uns anschauen, wie wir Namen zuweisen und Variablen erstellen können.\n",
    "\n",
    "Anders als in den meisten anderen Programmiersprachen müssen wir Python nicht erst sagen, welchem Datentyp eine Variable angehört. Python erkennt das an der Schreibweise, die wir bei der Definition verwenden. Wir werden immer mehr darüber lernen, je mehr Datentypen wir kennenlernen.\n",
    "\n",
    "### Andere Sprachen\n",
    "\n",
    "Um beispielsweise in C eine Variable mit Zahlenwert zu definieren müssen wir erst angeben, welchen Datentyp unsere Variable haben soll.\n",
    "\n",
    "    int x;\n",
    "\n",
    "Somit weiß die Programmiersprache (in diesem Fall C), dass wir für die Variable den Datentyp Integer (dt.: Ganzzahl) verwenden möchten. Das \"Problem\" daran ist, dass sie nun auch wirklich nur noch Zahlen als Wert tragen kann. Anschließend können wir in einem zweiten Schritt den tatsächlichen Wert definieren.\n",
    "\n",
    "    x = 42;\n",
    "\n",
    "### Python\n",
    "\n",
    "In Python nutzen wir ein einzelnes = Zeichen, um Variablen ihrem Namen zuzuweisen. Lasst uns ein paar Beispiele betrachten. Python erkennt dabei den Datentyp automatisch."
   ]
  },
  {
   "cell_type": "code",
   "execution_count": 6,
   "metadata": {
    "collapsed": true
   },
   "outputs": [],
   "source": [
    "# Wir erstellen ein Objekt names \"a\" and weisen ihm die Zahl 5 zu\n",
    "a = 5"
   ]
  },
  {
   "cell_type": "markdown",
   "metadata": {},
   "source": [
    "Wenn ich nun in meinem Python-Skript a aufrufe, wird es Python als 5 behandeln."
   ]
  },
  {
   "cell_type": "code",
   "execution_count": 7,
   "metadata": {},
   "outputs": [
    {
     "data": {
      "text/plain": [
       "10"
      ]
     },
     "execution_count": 7,
     "metadata": {},
     "output_type": "execute_result"
    }
   ],
   "source": [
    "# Die Objekte addieren\n",
    "a+a"
   ]
  },
  {
   "cell_type": "markdown",
   "metadata": {},
   "source": [
    "Was geschieht bei Neuzuweisung? Wird Python uns die Variable überschreiben lassen?"
   ]
  },
  {
   "cell_type": "code",
   "execution_count": 8,
   "metadata": {
    "collapsed": true
   },
   "outputs": [],
   "source": [
    "# Neuzuweisung\n",
    "a = 10"
   ]
  },
  {
   "cell_type": "code",
   "execution_count": 9,
   "metadata": {},
   "outputs": [
    {
     "data": {
      "text/plain": [
       "10"
      ]
     },
     "execution_count": 9,
     "metadata": {},
     "output_type": "execute_result"
    }
   ],
   "source": [
    "a"
   ]
  },
  {
   "cell_type": "markdown",
   "metadata": {},
   "source": [
    "Ja! Python lässt uns bereits vergebene Variablennamen überschreiben. Wir können außerdem die Variablen selbst benutzen, um eine Neuzuweisung durchzuführen. Hier ist ein Beispiel dafür, was ich meine:"
   ]
  },
  {
   "cell_type": "code",
   "execution_count": 10,
   "metadata": {},
   "outputs": [
    {
     "data": {
      "text/plain": [
       "10"
      ]
     },
     "execution_count": 10,
     "metadata": {},
     "output_type": "execute_result"
    }
   ],
   "source": [
    "# Check\n",
    "a"
   ]
  },
  {
   "cell_type": "code",
   "execution_count": 11,
   "metadata": {
    "collapsed": true
   },
   "outputs": [],
   "source": [
    "# Wir benutzen a um a neu zuzuweisen\n",
    "a = a + a"
   ]
  },
  {
   "cell_type": "code",
   "execution_count": 12,
   "metadata": {},
   "outputs": [
    {
     "data": {
      "text/plain": [
       "20"
      ]
     },
     "execution_count": 12,
     "metadata": {},
     "output_type": "execute_result"
    }
   ],
   "source": [
    "# Check\n",
    "a"
   ]
  },
  {
   "cell_type": "markdown",
   "metadata": {},
   "source": [
    "In Python müssen die Namen, die wir nutzen um diese Labels zu erstellen, einigen Regeln folgen:\n",
    "\n",
    "1. Namen dürfen nicht mit einer Zahl beginnen\n",
    "2. Es darf keine Leerzeichen im Namen geben, nutzt stattdessen _\n",
    "3. Folgende Zeichen dürfen nicht beinhaltet sein: '\",<>/?|\\()!@#$%^&*~-+\n",
    "4. Es wird üblicherweise so gehandhabt Namen klein zu schreiben\n",
    "\n",
    "Die Verwendung von Variablennamen kann ein nützliches Hilfsmittel sein, um den Überblick über verschiedene Variablen in Python zu behalten. Zum Beispiel:"
   ]
  },
  {
   "cell_type": "code",
   "execution_count": 13,
   "metadata": {
    "collapsed": true
   },
   "outputs": [],
   "source": [
    "# Hier werden die Namen benutzt, um den Überblick zu behalten!\n",
    "einkommen = 100\n",
    "\n",
    "steuersatz = 0.1\n",
    "\n",
    "steuern = einkommen * stauersatz"
   ]
  },
  {
   "cell_type": "code",
   "execution_count": 14,
   "metadata": {},
   "outputs": [
    {
     "data": {
      "text/plain": [
       "10.0"
      ]
     },
     "execution_count": 14,
     "metadata": {},
     "output_type": "execute_result"
    }
   ],
   "source": [
    "# Meine Steuern zeigen\n",
    "steuern"
   ]
  },
  {
   "cell_type": "markdown",
   "metadata": {},
   "source": [
    "Was haben wir also gelernt? Wir haben Grundlegendes über Zahlen in Python gelernt. Zusätzlich haben wir gelernt, wie man Arithmethik in Python anwendet und einfache Berechnungen durchführt. Diese Lektion wurde dadurch abgeschlossen, die Zuweisung von Variablen kennenzulernen.\n",
    "\n",
    "Im nächsten Kapitel beschäftigen wir uns mit: Strings."
   ]
  }
 ],
 "metadata": {
  "kernelspec": {
   "display_name": "Python 3",
   "language": "python",
   "name": "python3"
  },
  "language_info": {
   "codemirror_mode": {
    "name": "ipython",
    "version": 3
   },
   "file_extension": ".py",
   "mimetype": "text/x-python",
   "name": "python",
   "nbconvert_exporter": "python",
   "pygments_lexer": "ipython3",
   "version": "3.8.5"
  }
 },
 "nbformat": 4,
 "nbformat_minor": 2
}
