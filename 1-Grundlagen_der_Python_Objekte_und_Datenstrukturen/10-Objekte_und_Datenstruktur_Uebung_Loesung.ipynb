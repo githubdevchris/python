{
 "cells": [
  {
   "cell_type": "markdown",
   "metadata": {
    "collapsed": true
   },
   "source": [
    "<a href=\"https://www.datamics.com/courses/online-courses/\">![title](bg_datamics_top.png)</a>\n",
    "\n",
    "<center><em>© Datamics</em></center><br><center><em>Besuche uns für mehr Informationen auf <a href='https://www.datamics.com/courses/online-courses/'>www.datamics.com</a></em>\n",
    "# Objekte und Datenstrukturen Übung - Lösung\n",
    "\n",
    "## Teste dein Wissen\n",
    "\n",
    "#### Beantworte die folgenden Fragen:\n",
    "\n",
    "Schreibe eine kurze Beschreibung aller folgenden Objekt Typen und Daten Strukturen:\n",
    "\n",
    "#### Für die vollständige Antwort könnt ihr die Lektionen wiederholen.\n",
    "\n",
    "[Zahlen](http://nbviewer.jupyter.org/github/datamics/Originale-Python-Bootcamp/blob/master/013_Zahlen.ipynb)\n",
    "\n",
    "[Strings](http://nbviewer.jupyter.org/github/datamics/Originale-Python-Bootcamp/blob/master/015_Strings.ipynb)\n",
    "\n",
    "[Listen](http://nbviewer.jupyter.org/github/datamics/Originale-Python-Bootcamp/blob/master/019_Listen.ipynb)\n",
    "\n",
    "[Tupel](http://nbviewer.jupyter.org/github/datamics/Originale-Python-Bootcamp/blob/master/023_Tupel.ipynb)\n",
    "\n",
    "[Dictionaries](http://nbviewer.jupyter.org/github/datamics/Originale-Python-Bootcamp/blob/master/021_Dictionaries.ipynb)\n",
    "\n",
    "\n",
    "## Zahlen\n",
    "\n",
    "Schreibe eine Gleichung, die Multiplikation, Division, einen Exponenten, Addition und Subtraktion nutzt und 100.25 ergibt.\n",
    "\n",
    "Hinweis: Es geht nur darum, die grundsätzlichen Funktionen der Arithmetik zu kennen, ihr könnt vom Ergebnis aus starten."
   ]
  },
  {
   "cell_type": "code",
   "execution_count": 8,
   "metadata": {},
   "outputs": [
    {
     "data": {
      "text/plain": [
       "100.25"
      ]
     },
     "execution_count": 8,
     "metadata": {},
     "output_type": "execute_result"
    }
   ],
   "source": [
    "# Eure Antwort ist vermutlich anders\n",
    "( (200000 + (10 ** 5) ) / (12 * 25) ) - 899.75"
   ]
  },
  {
   "cell_type": "markdown",
   "metadata": {},
   "source": [
    "Erkläre, was die nächste Zelle ergeben wird und warum es in Python 2 anders wäre."
   ]
  },
  {
   "cell_type": "code",
   "execution_count": 9,
   "metadata": {},
   "outputs": [
    {
     "data": {
      "text/plain": [
       "0.6666666666666666"
      ]
     },
     "execution_count": 9,
     "metadata": {},
     "output_type": "execute_result"
    }
   ],
   "source": [
    "2/3"
   ]
  },
  {
   "cell_type": "markdown",
   "metadata": {},
   "source": [
    "#### Antwort: Python 2 führt klassische Division für Zahlen durch. Dort müssen wir Gleitkommazahlen nutzen. Zum Beispiel: 2.0/3 \n",
    "\n",
    "Beantworte diese 3 Fragen, ohne den Code zu schreiben. Dann schreibe den Code und überprüfe deine Ergebnisse.\n",
    "\n",
    "1| Was ist das Ergebnis der folgenden Berechnungen?\n",
    "    \n",
    "    4 * (6 + 5)\n",
    "    \n",
    "    4 * 6 + 5 \n",
    "    \n",
    "    4 + 6 * 5 "
   ]
  },
  {
   "cell_type": "code",
   "execution_count": 10,
   "metadata": {},
   "outputs": [
    {
     "data": {
      "text/plain": [
       "44"
      ]
     },
     "execution_count": 10,
     "metadata": {},
     "output_type": "execute_result"
    }
   ],
   "source": [
    "4 * (6 + 5)"
   ]
  },
  {
   "cell_type": "code",
   "execution_count": 11,
   "metadata": {},
   "outputs": [
    {
     "data": {
      "text/plain": [
       "29"
      ]
     },
     "execution_count": 11,
     "metadata": {},
     "output_type": "execute_result"
    }
   ],
   "source": [
    "4 * 6 + 5 "
   ]
  },
  {
   "cell_type": "code",
   "execution_count": 12,
   "metadata": {},
   "outputs": [
    {
     "data": {
      "text/plain": [
       "34"
      ]
     },
     "execution_count": 12,
     "metadata": {},
     "output_type": "execute_result"
    }
   ],
   "source": [
    "4 + 6 * 5 "
   ]
  },
  {
   "cell_type": "markdown",
   "metadata": {},
   "source": [
    "2| Welchem <i>Typ</i> entspricht das Ergebnis der Gleichung 3 + 1.5 + 4?"
   ]
  },
  {
   "cell_type": "markdown",
   "metadata": {
    "collapsed": true
   },
   "source": [
    "#### Antwort: Gleitkommazahl"
   ]
  },
  {
   "cell_type": "markdown",
   "metadata": {},
   "source": [
    "3| Was würdest du verwenden, um die Quadratwurzel einer Zahl zu erhalten und was für die Quadratur?"
   ]
  },
  {
   "cell_type": "code",
   "execution_count": 13,
   "metadata": {},
   "outputs": [
    {
     "data": {
      "text/plain": [
       "10.0"
      ]
     },
     "execution_count": 13,
     "metadata": {},
     "output_type": "execute_result"
    }
   ],
   "source": [
    "100 ** 0.5"
   ]
  },
  {
   "cell_type": "code",
   "execution_count": 14,
   "metadata": {},
   "outputs": [
    {
     "data": {
      "text/plain": [
       "100"
      ]
     },
     "execution_count": 14,
     "metadata": {},
     "output_type": "execute_result"
    }
   ],
   "source": [
    "10 ** 2"
   ]
  },
  {
   "cell_type": "markdown",
   "metadata": {},
   "source": [
    "## Strings\n",
    "\n",
    "Wir nehmen den String \"Hallo\" als Ausgangsposition. Nutze ein Index Kommando, dass den Buchstaben \"a\" zurückgibt. Nutze die nächste Zelle:"
   ]
  },
  {
   "cell_type": "code",
   "execution_count": 15,
   "metadata": {},
   "outputs": [
    {
     "data": {
      "text/plain": [
       "'a'"
      ]
     },
     "execution_count": 15,
     "metadata": {},
     "output_type": "execute_result"
    }
   ],
   "source": [
    "s = \"Hallo\"\n",
    "# Gebe \"a\" aus, indem du Index verwendest\n",
    "s[1]"
   ]
  },
  {
   "cell_type": "markdown",
   "metadata": {},
   "source": [
    "Den String \"Hallo\" rückwärst schreiben:"
   ]
  },
  {
   "cell_type": "code",
   "execution_count": 16,
   "metadata": {},
   "outputs": [
    {
     "data": {
      "text/plain": [
       "'ollaH'"
      ]
     },
     "execution_count": 16,
     "metadata": {},
     "output_type": "execute_result"
    }
   ],
   "source": [
    "s = \"Hallo\"\n",
    "# Schreibe s rückwärts, indem du Index verwendest\n",
    "s[::-1]"
   ]
  },
  {
   "cell_type": "markdown",
   "metadata": {},
   "source": [
    "Zeige zwei Methoden, um den Buchstaben \"o\" durch Index zu erhalten:"
   ]
  },
  {
   "cell_type": "code",
   "execution_count": 17,
   "metadata": {},
   "outputs": [
    {
     "data": {
      "text/plain": [
       "'o'"
      ]
     },
     "execution_count": 17,
     "metadata": {},
     "output_type": "execute_result"
    }
   ],
   "source": [
    "s = \"Hallo\"\n",
    "# Lösung 1\n",
    "s[-1]\n",
    "# Lösung 2\n",
    "s[4]"
   ]
  },
  {
   "cell_type": "markdown",
   "metadata": {},
   "source": [
    "## Listen\n",
    "\n",
    "Erstelle die Liste [0,0,0] auf zwei unterschiedliche Arten."
   ]
  },
  {
   "cell_type": "code",
   "execution_count": 18,
   "metadata": {},
   "outputs": [
    {
     "data": {
      "text/plain": [
       "[0, 0, 0]"
      ]
     },
     "execution_count": 18,
     "metadata": {},
     "output_type": "execute_result"
    }
   ],
   "source": [
    "# Methode 1\n",
    "[0]*3\n",
    "# Methode 2\n",
    "l = [0,0,0]\n",
    "l"
   ]
  },
  {
   "cell_type": "markdown",
   "metadata": {},
   "source": [
    "Ersetze in dieser verschachtelten Liste \"Hallo\", um stattdessen \"Auf Wiedersehen\" zu sagen."
   ]
  },
  {
   "cell_type": "code",
   "execution_count": 20,
   "metadata": {},
   "outputs": [
    {
     "data": {
      "text/plain": [
       "[1, 2, [3, 4, 'Auf wiedersehen']]"
      ]
     },
     "execution_count": 20,
     "metadata": {},
     "output_type": "execute_result"
    }
   ],
   "source": [
    "l = [1,2,[3,4,'Hallo']]\n",
    "l[2][2] = 'Auf wiedersehen'\n",
    "l"
   ]
  },
  {
   "cell_type": "markdown",
   "metadata": {},
   "source": [
    "Sortiere die folgende Liste:"
   ]
  },
  {
   "cell_type": "code",
   "execution_count": 21,
   "metadata": {},
   "outputs": [
    {
     "data": {
      "text/plain": [
       "[3, 4, 5, 5, 6]"
      ]
     },
     "execution_count": 21,
     "metadata": {},
     "output_type": "execute_result"
    }
   ],
   "source": [
    "l = [3,4,5,5,6]\n",
    "# Methode 1\n",
    "sorted(l)\n",
    "# Methode 2\n",
    "l.sort()\n",
    "l"
   ]
  },
  {
   "cell_type": "markdown",
   "metadata": {},
   "source": [
    "## Dictionaries\n",
    "\n",
    "Schnappe dir das \"Hallo\" aus folgendem Dictionary indem du Keys und Index benutzt:"
   ]
  },
  {
   "cell_type": "code",
   "execution_count": 22,
   "metadata": {},
   "outputs": [
    {
     "data": {
      "text/plain": [
       "'Hallo'"
      ]
     },
     "execution_count": 22,
     "metadata": {},
     "output_type": "execute_result"
    }
   ],
   "source": [
    "d = {'Einfacher_Key':'Hallo'}\n",
    "# Das \"Hallo\" ausgeben\n",
    "d['Einfacher_Key']"
   ]
  },
  {
   "cell_type": "code",
   "execution_count": 23,
   "metadata": {},
   "outputs": [
    {
     "data": {
      "text/plain": [
       "'Hallo'"
      ]
     },
     "execution_count": 23,
     "metadata": {},
     "output_type": "execute_result"
    }
   ],
   "source": [
    "d = {'k1':{'k2':'Hallo'}}\n",
    "# Das \"Hallo\" ausgeben\n",
    "d['k1']['k2']"
   ]
  },
  {
   "cell_type": "code",
   "execution_count": 24,
   "metadata": {},
   "outputs": [
    {
     "data": {
      "text/plain": [
       "'Hallo'"
      ]
     },
     "execution_count": 24,
     "metadata": {},
     "output_type": "execute_result"
    }
   ],
   "source": [
    "# Es wird etwas tiefer\n",
    "d = {'k1':[{'key_ebene2':['das ist tief',['Hallo']]}]}\n",
    "# Das \"Hallo\" ausgeben\n",
    "d['k1'][0]['key_ebene2'][1][0]"
   ]
  },
  {
   "cell_type": "code",
   "execution_count": 25,
   "metadata": {},
   "outputs": [
    {
     "data": {
      "text/plain": [
       "'Hallo'"
      ]
     },
     "execution_count": 25,
     "metadata": {},
     "output_type": "execute_result"
    }
   ],
   "source": [
    "# Das wird jetzt schwer und etwas nervig!\n",
    "d = {'k1':[1,2,{'k2':['etwas kompliziert',{'schwer':[1,2,['Hallo']]}]}]}\n",
    "# Das \"Hallo\" ausgeben\n",
    "d['k1'][2]['k2'][1]['schwer'][2][0]"
   ]
  },
  {
   "cell_type": "markdown",
   "metadata": {},
   "source": [
    "Kann man ein Dictionary sortieren? Warum oder warum nicht?\n",
    "\n",
    "#### Antwort: Nein! Das liegt daran, dass sie keine Sequenz sind.\n",
    "\n",
    "## Tupel\n",
    "\n",
    "Was ist der Hauptunterschied zwischen Tupeln und Listen?\n",
    "\n",
    "#### Tupel sind unveränderlich\n",
    "\n",
    "Wie erstellt man ein Tupel?\n",
    "\n",
    "    t = (1,2,3)\n",
    "\n",
    "## Set\n",
    "\n",
    "Was ist einzigartig an Sets?\n",
    "\n",
    "Benutze ein Set, um die einzigartigen Werte der folgenden Liste zu finden:"
   ]
  },
  {
   "cell_type": "code",
   "execution_count": 26,
   "metadata": {},
   "outputs": [
    {
     "data": {
      "text/plain": [
       "{1, 2, 3, 4, 11, 22, 33}"
      ]
     },
     "execution_count": 26,
     "metadata": {},
     "output_type": "execute_result"
    }
   ],
   "source": [
    "l = [1,2,2,33,4,4,11,22,3,3,2]\n",
    "# Set erstellen\n",
    "set(l)"
   ]
  },
  {
   "cell_type": "markdown",
   "metadata": {},
   "source": [
    "## Booleans\n",
    "\n",
    "Für das folgende Quiz, bekommen wir hier eine Vorschau für die Vergleichsoperatoren:\n",
    "<table class=\"table table-bordered\">\n",
    "<tr>\n",
    "<th style=\"width:10%\">Operator</th><th style=\"width:45%\">Beschreibung</th><th>Beispiel</th>\n",
    "</tr>\n",
    "<tr>\n",
    "<td>==</td>\n",
    "<td>Wenn der Wert zweier Operanten gleich ist, wird die Bedingung True (wahr).</td>\n",
    "<td> (a == b) ist nicht True.</td>\n",
    "</tr>\n",
    "<tr>\n",
    "<td>!=</td>\n",
    "<td>Wenn der Wert zweier Operanten nicht gleich ist, wird die Bedingung True (wahr).</td>\n",
    "<td>(a != b) ist True</td>\n",
    "</tr>\n",
    "<tr>\n",
    "<td>&gt;</td>\n",
    "<td>Wenn der Wert des linken Operanten größer als der des rechten ist, dann wird die Bedingung True (wahr).</td>\n",
    "<td> (a &gt; b) ist nicht Wahr.</td>\n",
    "</tr>\n",
    "<tr>\n",
    "<td>&lt;</td>\n",
    "<td>Wenn der Wert des linken Operanten kleiner als der des rechten ist, dann wird die Bedingung True (wahr).</td>\n",
    "<td> (a &lt; b) ist True (wahr).</td>\n",
    "</tr>\n",
    "<tr>\n",
    "<td>&gt;=</td>\n",
    "<td>Wenn der Wert des linken Operanten größer als oder gleich dem des rechten ist, dann wird die Bedingung True (wahr).</td>\n",
    "<td> (a &gt;= b) ist nicht True (wahr). </td>\n",
    "</tr>\n",
    "<tr>\n",
    "<td>&lt;=</td>\n",
    "<td>Wenn der Wert des linken Operanten kleiner als oder gleich dem des rechten ist, dann wird die Bedingung True (wahr).</td>\n",
    "<td> (a &lt;= b) ist True (wahr). </td>\n",
    "</tr>\n",
    "</table>\n",
    "\n",
    "Was wird der Boolean Wert sein, den folgende Codes erzeugen? Antwortet bevor ihr die Zellen ausführt!"
   ]
  },
  {
   "cell_type": "code",
   "execution_count": 27,
   "metadata": {},
   "outputs": [
    {
     "data": {
      "text/plain": [
       "False"
      ]
     },
     "execution_count": 27,
     "metadata": {},
     "output_type": "execute_result"
    }
   ],
   "source": [
    "# Zuerst beantworten, dann ausführen\n",
    "2 > 3"
   ]
  },
  {
   "cell_type": "code",
   "execution_count": 28,
   "metadata": {},
   "outputs": [
    {
     "data": {
      "text/plain": [
       "False"
      ]
     },
     "execution_count": 28,
     "metadata": {},
     "output_type": "execute_result"
    }
   ],
   "source": [
    "# Zuerst beantworten, dann ausführen\n",
    "3 <= 2"
   ]
  },
  {
   "cell_type": "code",
   "execution_count": 29,
   "metadata": {},
   "outputs": [
    {
     "data": {
      "text/plain": [
       "False"
      ]
     },
     "execution_count": 29,
     "metadata": {},
     "output_type": "execute_result"
    }
   ],
   "source": [
    "# Zuerst beantworten, dann ausführen\n",
    "3 == 2.0"
   ]
  },
  {
   "cell_type": "code",
   "execution_count": 30,
   "metadata": {},
   "outputs": [
    {
     "data": {
      "text/plain": [
       "True"
      ]
     },
     "execution_count": 30,
     "metadata": {},
     "output_type": "execute_result"
    }
   ],
   "source": [
    "# Zuerst beantworten, dann ausführen\n",
    "3.0 == 3"
   ]
  },
  {
   "cell_type": "code",
   "execution_count": 31,
   "metadata": {},
   "outputs": [
    {
     "data": {
      "text/plain": [
       "False"
      ]
     },
     "execution_count": 31,
     "metadata": {},
     "output_type": "execute_result"
    }
   ],
   "source": [
    "# Zuerst beantworten, dann ausführen\n",
    "4**0.5 != 2"
   ]
  },
  {
   "cell_type": "markdown",
   "metadata": {},
   "source": [
    "Letzte Frage: Was ergibt der folgende Codeblock?"
   ]
  },
  {
   "cell_type": "code",
   "execution_count": 32,
   "metadata": {},
   "outputs": [
    {
     "data": {
      "text/plain": [
       "False"
      ]
     },
     "execution_count": 32,
     "metadata": {},
     "output_type": "execute_result"
    }
   ],
   "source": [
    "# Zwei verschachtelte Listen\n",
    "l_one = [1,2,[3,4]]\n",
    "l_two = [1,2,{'k1':4}]\n",
    "\n",
    "#True or False?\n",
    "l_one[2][0] >= l_two[2]['k1']"
   ]
  },
  {
   "cell_type": "markdown",
   "metadata": {},
   "source": [
    "## Gut gemacht! Das war deine erste Übung."
   ]
  }
 ],
 "metadata": {
  "kernelspec": {
   "display_name": "Python 3",
   "language": "python",
   "name": "python3"
  },
  "language_info": {
   "codemirror_mode": {
    "name": "ipython",
    "version": 3
   },
   "file_extension": ".py",
   "mimetype": "text/x-python",
   "name": "python",
   "nbconvert_exporter": "python",
   "pygments_lexer": "ipython3",
   "version": "3.8.5"
  }
 },
 "nbformat": 4,
 "nbformat_minor": 2
}
